import pandas as pd
import numpy as np

# Load the data
df = pd.read_csv('USvideos.csv')

# Convert dates to datetime
df['trending_date'] = pd.to_datetime(df['trending_date'], format='%y.%d.%m')
df['publish_time'] = pd.to_datetime(df['publish_time'])

# Handle missing values (if any)
df.fillna(df.mean(), inplace=True)

# Create new features (e.g., moving averages for views)
df['views_7d_avg'] = df['views'].rolling(window=7).mean()  # 7-day moving average of views

from sklearn.model_selection import train_test_split

# Features (X) and target (y)
X = df[['views_7d_avg', 'comment_count', 'likes', 'dislikes']]  # You can add more features here
y = df['views']  # Target variable

# Split the data into training and testing sets
X_train, X_test, y_train, y_test = train_test_split(X, y, test_size=0.2, random_state=42)


from sklearn.linear_model import LinearRegression
from sklearn.metrics import mean_squared_error, r2_score

# Instantiate and fit the model
linear_model = LinearRegression()
linear_model.fit(X_train, y_train)

# Make predictions
y_pred_linear = linear_model.predict(X_test)

# Evaluate the model
mse_linear = mean_squared_error(y_test, y_pred_linear)
r2_linear = r2_score(y_test, y_pred_linear)

print(f"Linear Regression - MSE: {mse_linear}, R2: {r2_linear}")


import xgboost as xgb

# Instantiate and fit the model
xg_model = xgb.XGBRegressor(objective='reg:squarederror', random_state=42)
xg_model.fit(X_train, y_train)

# Make predictions
y_pred_xg = xg_model.predict(X_test)

# Evaluate the model
mse_xg = mean_squared_error(y_test, y_pred_xg)
r2_xg = r2_score(y_test, y_pred_xg)

print(f"XGBoost - MSE: {mse_xg}, R2: {r2_xg}")

